{
 "cells": [
  {
   "cell_type": "markdown",
   "id": "642ff061",
   "metadata": {},
   "source": [
    "Data clean-up for model training."
   ]
  },
  {
   "cell_type": "code",
   "execution_count": 11,
   "id": "ca39e3ae",
   "metadata": {},
   "outputs": [],
   "source": [
    "import json\n",
    "\n",
    "with open('data.json', \"r\") as file_old:\n",
    "    data = json.load(file_old)"
   ]
  },
  {
   "cell_type": "code",
   "execution_count": null,
   "id": "e452ebb3",
   "metadata": {},
   "outputs": [],
   "source": [
    "import re\n",
    "\n",
    "def section_split(text: str) -> list[str]:\n",
    "    pattern = r\"(==.*?==.*?)(?=(?:==.*?==)|\\Z)\"\n",
    "    splitted = re.split(pattern, text, flags = re.S)\n",
    "    return [section for section in splitted if section != '']\n",
    "\n",
    "def format_english(text: str) -> str:\n",
    "    pattern_start = re.compile(r\".*```[A-Za-z:-]*\\n\", re.DOTALL)  # Removes any leading \"<flavour>```text\\n\".\n",
    "    pattern_end = re.compile(r\"```$\")                             # Removes any trailing \"```\".\n",
    "    text = pattern_start.sub('', text)\n",
    "    text = pattern_end.sub('', text)\n",
    "    return text"
   ]
  },
  {
   "cell_type": "code",
   "execution_count": 20,
   "id": "e131cc82",
   "metadata": {},
   "outputs": [],
   "source": [
    "organized_data = []\n",
    "for page in data.values():\n",
    "    for en_translated, pt_official in page.items():\n",
    "        en_t = section_split(format_english(en_translated)) \n",
    "        pt_o = section_split(pt_official)\n",
    "        \n",
    "        for section in en_t:\n",
    "            organized_data.append(\n",
    "                { 'text' : section, 'label': 0 }\n",
    "            )\n",
    "\n",
    "        for section in pt_o:\n",
    "            organized_data.append(\n",
    "                { 'text' : section, 'label': 1 }\n",
    "            )"
   ]
  },
  {
   "cell_type": "code",
   "execution_count": 16,
   "id": "ff8aa7bd",
   "metadata": {},
   "outputs": [],
   "source": [
    "import random\n",
    "\n",
    "# Shuffling for good measure.\n",
    "random.shuffle(organized_data)"
   ]
  },
  {
   "cell_type": "code",
   "execution_count": 15,
   "id": "79171ad5",
   "metadata": {},
   "outputs": [],
   "source": [
    "import pandas as pd\n",
    "\n",
    "df = pd.DataFrame(organized_data)\n",
    "df.to_csv('training_data.csv', index = False)"
   ]
  }
 ],
 "metadata": {
  "kernelspec": {
   "display_name": "Python 3",
   "language": "python",
   "name": "python3"
  },
  "language_info": {
   "codemirror_mode": {
    "name": "ipython",
    "version": 3
   },
   "file_extension": ".py",
   "mimetype": "text/x-python",
   "name": "python",
   "nbconvert_exporter": "python",
   "pygments_lexer": "ipython3",
   "version": "3.11.5"
  }
 },
 "nbformat": 4,
 "nbformat_minor": 5
}
