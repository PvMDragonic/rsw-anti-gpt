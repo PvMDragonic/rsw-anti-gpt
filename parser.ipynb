{
 "cells": [
  {
   "cell_type": "markdown",
   "id": "642ff061",
   "metadata": {},
   "source": [
    "Data clean-up for model training."
   ]
  },
  {
   "cell_type": "code",
   "execution_count": 68,
   "id": "ca39e3ae",
   "metadata": {},
   "outputs": [],
   "source": [
    "import json\n",
    "\n",
    "with open('data.json', \"r\") as file_old:\n",
    "    data = json.load(file_old)"
   ]
  },
  {
   "cell_type": "code",
   "execution_count": 69,
   "id": "e452ebb3",
   "metadata": {},
   "outputs": [],
   "source": [
    "import re\n",
    "\n",
    "def section_split(text: str) -> list[str]:\n",
    "    pattern = r\"(==.*?==.*?)(?=(?:==.*?==)|\\Z)\"\n",
    "    splitted = re.split(pattern, text, flags = re.S)\n",
    "    return [section for section in splitted if section != '']"
   ]
  },
  {
   "cell_type": "code",
   "execution_count": 71,
   "id": "e131cc82",
   "metadata": {},
   "outputs": [],
   "source": [
    "organized_data = []\n",
    "for page in data.values():\n",
    "    for en_translated, pt_official in page.items():\n",
    "        en_t = section_split(en_translated[5:-3]) # removes leading '''pt and trailing '''.\n",
    "        pt_o = section_split(pt_official)\n",
    "\n",
    "        for section in en_t:\n",
    "            organized_data.append(\n",
    "                { 'text' : section, 'label': 0 }\n",
    "            )\n",
    "\n",
    "        for section in pt_o:\n",
    "            organized_data.append(\n",
    "                { 'text' : section, 'label': 1 }\n",
    "            )\n"
   ]
  },
  {
   "cell_type": "code",
   "execution_count": 72,
   "id": "ff8aa7bd",
   "metadata": {},
   "outputs": [
    {
     "data": {
      "text/plain": [
       "[{'text': '==Obtenção==\\n{{Lista de objetos largados}}\\n', 'label': 1},\n",
       " {'text': '==Histórico de atualizações==\\n{{HA|\\n* {{UL|tipo=atualização|atualização=Atualização do Jogo: A nova habilidade Arqueologia chegou!|data=30 de Março de 2020}}\\n** Adicionado ao jogo.\\n}}\\n\\n{{Artefatos}}\\n',\n",
       "  'label': 0},\n",
       " {'text': '==Restauração==\\n{{Infobox Recipe\\n|produto1=Pergaminho de feitiço &#39;Incitar Medo&#39;\\n|hab1=Arqueologia\\n|hab1exp=2193.3\\n|produto1preço=Não\\n|hab1nível=58\\n|membros        = Sim\\n|missão         = Não\\n|mat1           = Pergaminho de feitiço &#39;Incitar Medo&#39; (danificado)\\n|mat1quantidade = 1\\n|mat1preço      = {{N/D}}\\n|mat2           = Velum\\n|mat2quantidade = 20\\n|mat2preço      = gemw\\n|mat3           = Vis antiga\\n|mat3quantidade = 18\\n|mat3preço      = gemw\\n|mat4           = Sangue de Orcus\\n|mat4quantidade = 18\\n|mat4preço      = gemw\\n|ticks= 10\\n|ticks2= 8\\n|ticksnota= Enquanto a [[Roupa de Mestre Arqueólogo]] estiver equipada.\\n}}\\n',\n",
       "  'label': 1},\n",
       " {'text': '==Histórico de atualizações==\\n{{HA|\\n* {{LA|data={{Data|30|Março|2020}}|tipo=atualização|atualização=Atualização do Jogo: Chegou a nova habilidade de Arqueologia!}}\\n** Adicionado ao jogo.\\n}}\\n\\n{{Artefatos}}',\n",
       "  'label': 1},\n",
       " {'text': \"{{Infobox objeto\\n|nome = {{PAGENAME}}\\n|inglês = 'Lust' metal sculpture (damaged)\\n|imagem = [[Ficheiro:{{PAGENAME}}.png]]\\n|examinar = Uma escultura de metal que pode ser restaurada.\\n|lançamento  = {{Data|30|Março|2020}}\\n|atualização = Atualização do Jogo: Chegou a nova habilidade de Arqueologia!\\n|membros     = Sim\\n|missão      = Não\\n|negociável  = Não\\n|equipável   = Não\\n|desmontável = Não\\n|valor       = 16250\\n|alquimia    = Não\\n|destruir    = Você precisará encontrar outro com arqueologia.\\n|em morte    = Não\\n|acumulável= Não\\n|acumulável banco= Sim\\n|depositável = Sim\\n|peso        = 0.001\\n|ações= Inspecionar, Destruir\\n|id= 49839\\n}}\\n[[Ficheiro:{{PAGENAME}}_detalhe.png|left]] A '''escultura de metal 'Luxúria' (danificada)''' é um [[artefato]] zamorakiano quebrado que pode ser escavado em [[Fonte Infernal]] e restaurado com nível 65 de {{hab|Arqueologia}}.\\n__NOTOC__\\n\",\n",
       "  'label': 1},\n",
       " {'text': \"==Informações do artefato restaurado==\\n[[Ficheiro:'Friendship bracelet' journal.png|mini|direita|O 'bracelete da amizade' no diário]]\\nAs informações abaixo são para a variante restaurada deste artefato danificado (veja [[#Produtos|produtos]] acima).\\n{{Ficha de Artefato|'Bracelete da amizade'}}\\n\\n\",\n",
       "  'label': 0},\n",
       " {'text': '==Desmontagem==\\n{{Desmontagem\\n|nível = 1\\n|categoria = padrão\\n}}\\n\\n',\n",
       "  'label': 0},\n",
       " {'text': '{{outros usos|a versão danificada|a versão restaurada|\"Bracelete da amizade\"}}\\n{{Infobox objeto\\n|nome = \"Bracelete da amizade\" (danificado)\\n|inglês = \\'Friendship bracelet\\' (damaged)\\n|imagem = [[Arquivo:\"Bracelete da amizade\" (danificado).png]]\\n|examinar = Um \"bracelete da amizade\" que pode ser restaurado.\\n|lançamento = {{Data|10|junho|2024}}\\n|atualização = Sítio de Arqueologia de Kalaboss - Esta Semana no RuneScape\\n|membros = Sim\\n|missão = Não\\n|negociável = Não\\n|equipável = Não\\n|acumulável = Não\\n|desmontável = Não\\n|ações = Inspecionar, Destruir\\n|valor = 19000\\n|alquimia = Não\\n|destruir = Você terá que encontrar outro com Arqueologia.\\n|em morte = sempre\\n|peso = 0,001\\n|id = 56987\\n}}\\n[[Arquivo:\"Bracelete da amizade\" (danificado) detalhe.png|100px|left]]\\n\\'\\'\\'\"Bracelete da amizade\" (danificado)\\'\\'\\' é um [[artefato]] dragonkin danificado que pode ser restaurado em uma [[Bancada do Arqueólogo]]. Ele pode ser escavado no [[espaço comunal]], localizado no primeiro andar do castelo do [[Sítio de Escavação de Kalaboss]], exigindo nível 87 em {{hab|Arqueologia}}.\\n\\nUm \"bracelete da amizade\" restaurado é necessário para que o jogador possa acessar as [[Kalaboss - Sítio de escavação das profundezas|Profundezas Distorcidas]], através da [[porta imponente]].\\n\\n',\n",
       "  'label': 1},\n",
       " {'text': '==Fontes de obtenção==\\n{{Fontes de obtenção}}\\n\\n', 'label': 0},\n",
       " {'text': '{{Infobox objeto\\n|inglês = \\'Malum Infernale\\'\\n|examinar = Dividido em três partes: Infernus, Guilenor e Mundo Sagrado\\n|lançamento  = {{Data|30|março|2020}}\\n|atualização = Atualização do Jogo: Chegou a nova habilidade de Arqueologia!\\n|membros     = Sim\\n|missão      = Não\\n|negociável  = Não\\n|equipável   = Não\\n|desmontável = Não\\n|valor       = 1\\n|alquimia    = Não\\n|destruir    = Se você destruir este objeto, não poderá recuperá-lo.\\n|em morte    = Sim\\n|depositável = Não\\n|acumulável = Não\\n|peso        = \\n}}\\n[[Ficheiro:Malum Infernale detalhe.png|left]]\\'\\'\\'Malum Infernale\\'\\'\\' é um livro, pertencente ao antigo culto [[Zamorak|zamorakiano]] da [[Ordem de Dis]], que pode ser encontrado em uma das prateleiras de livros dentro da [[Masmorra da Desordem]], a segunda área da [[Fonte Infernal]]. Lê-lo revela a frase \"Deixai todo o medo, ó vós que entrais... e divirta-se!\". Ele pode ser usado para receber 500 EXP em {{hab|Arqueologia}}, o que destrói o objeto.',\n",
       "  'label': 1},\n",
       " {'text': '==Produtos==\\n{{Lista de materiais usados}}\\n\\n', 'label': 0},\n",
       " {'text': \"{Otheruses|a variante restaurada|a variante danificada|Escultura de metal 'Luxúria' (danificada)}}\\n{{Infobox Item\\n|name = Escultura de metal 'Luxúria'\\n|image = [[File:'Lust' metal sculpture.png]]\\n|release = [[30 de Março]] [[2020]]\\n|update = Atualização do Jogo: A Nova Habilidade Arqueologia Chegou!\\n|members = Sim\\n|quest = Não\\n|restriction = superfície\\n|tradeable = Não\\n|equipable = Não\\n|gimstorage = Sim\\n|stackable = Não\\n|actions = Inspecionar, Usar, Destruir, Examinar\\n|disassembly = Sim\\n|value = 32500\\n|alchable = Não\\n|destroy = Você terá que encontrar outra através da Arqueologia.\\n|kept = sempre\\n|examine = Uma escultura de metal completamente restaurada.\\n|weight = 0,001\\n|id = 49840\\n|calcvalue = {GETotalqty¦name1=Ferro da Terceira Era¦qty1=16¦name2=Olho de Dagon¦qty2=24¦name3=Runa Dourada¦qty3=24¦name4=Rubi¦qty4=1}\\n}}\\n{{ArtefactIntro|lowercase=no|faction=Zamorakiana|hotspot=Arte infernal|digsite=Sítio de Escavação da Fonte Infernal|level=65|detail=yes}}\\n\\n[[File:'Lust' metal sculpture journal.png|thumb|right|A escultura de metal 'Luxúria' no diário.]]\\n\\n{{Clear|left}}\\n\",\n",
       "  'label': 0},\n",
       " {'text': '==Obtenção==\\n{{Lista de objetos largados}}\\n\\n', 'label': 1},\n",
       " {'text': '==Histórico de atualizações==\\n{{HA|\\n* {{LA|tipo=atualização|atualização=Atualização do Jogo: A Nova Habilidade Arqueologia Chegou!|data=30 de Março de 2020}}\\n** Adicionado ao jogo.\\n}}\\n\\n',\n",
       "  'label': 0},\n",
       " {'text': '==Desmontagem==\\n{{Desmontagem\\n|nível = 105\\n|categoria = artefato de pintura 18\\n|especial = desgastado[4]{50}, vintage[4]{50}\\n|sempre_dá_material_especial = sim\\n|valorcalculado = {GETotalqty¦nome1=Azul cobalto¦qty1=52¦nome2=Carvalho branco¦qty1=16¦nome3=Seda samita¦qty1=16¦nome4=Pergaminho¦qty1=16}\\n}}\\n\\n',\n",
       "  'label': 0},\n",
       " {'text': \"==Restauração==\\n{{Ficha de Receita\\n|membros = Sim\\n|tiques = 10\\n|ferramenta = Ferramentas de arqueólogo\\n|tiques2 = 8\\n|nota_tiques = Ao usar o [[traje de arqueólogo mestre]].\\n|instalação = Bancada de arqueólogo\\n|habilidade1 = Arqueologia\\n|nível_habilidade1 = 42\\n|habilidade1_impulsionável = Sim\\n|exp_habilidade1 = 1073.3\\n|material1 = 'Frigideira' (danificada)\\n|custo_material1 = não\\n|material2 = Ferro da Terceira Era\\n|qtde_material2 = 20\\n|material3 = Mármore branco\\n|qtde_material3 = 24\\n|saída1 = 'Frigideira'\\n|custo_saída1 = não\\n}}\\n\\n\",\n",
       "  'label': 0},\n",
       " {'text': '==Obtenção==\\n{{Lista de objetos largados}}\\n\\n', 'label': 1},\n",
       " {'text': \"\\n{{Infobox Item\\n|nome = Pergaminho de feitiço 'Reanimar Mortos' (emprestado)\\n|imagem = [[Ficheiro:Pergaminho de feitiço 'Reanimar Mortos' (emprestado).png]]\\n|lançamento = [[25 de janeiro]] de [[2021]]\\n|atualização = This Week In RuneScape - Celebração do Treinamento\\n|assinantes = Sim\\n|missão = [[O Cofre das Sombras]]\\n|restrição = Missão\\n|comerciável = Não\\n|armazenável = Não\\n|equipável = Não\\n|empilhável = Não\\n|desmontável = Não\\n|ações = Conjurar, Destruir\\n|valor = 53500\\n|alquimizável = Não\\n|destruir = Se você destruir isso, você pode obter um substituto do Dr. Nabanik no Sítio de Escavação de Kharid-et.\\n|mantido = Sempre\\n|examinar = Um pergaminho de feitiço das sombras totalmente restaurado.\\n|peso = \\n|id = 51218\\n}}\\n[[Ficheiro:Pergaminho de feitiço 'Reanimar Mortos' (emprestado) detalhe.png|100px|esquerda]]\\nO '''Pergaminho de feitiço 'Reanimar Mortos' (emprestado)''' é uma versão do [[Pergaminho de feitiço 'Reanimar Mortos']] que pode ser usada para ativar o [[Botão das sombras (O Cofre das Sombras)|botão das sombras]] no [[Sítio de Escavação de Kharid-et - Pretório|Pretório de Kharid-et]]. Ele é emprestado ao jogador pelo [[Dr. Nabanik]] durante a missão [[O Cofre das Sombras]] se o jogador ainda não o fez.\\n\\nSe o jogador usou este item, um pergaminho restaurado deve ser devolvido ao Dr. Nabanik para receber a recompensa de EXP do [[O Cofre das Sombras|mistério O Cofre das Sombras]].\\n\\nO Dr. Nabanik não emprestará os pergaminhos ao jogador se o nível de Arqueologia necessário (107) for atingido. Você terá que escavá-los em vez disso.\\n\\n\",\n",
       "  'label': 0},\n",
       " {'text': \"{{Infobox objeto\\n|nome = Escultura 'Forjada em Guerra' (danificada)\\n|inglês = 'Forged in War' sculpture (damaged)\\n|imagem = [[Ficheiro:{{PAGENAME}}.png]]\\n|examinar = Uma escultura de Kyzaj que pode ser restaurada.\\n|lançamento  = {{Data|30|Março|2020}}\\n|atualização = Atualização do Jogo: Chegou a nova habilidade de Arqueologia!\\n|membros     = Sim\\n|missão      = Não\\n|negociável  = Não\\n|equipável   = Não\\n|desmontável = Não\\n|valor       = 25000\\n|alquimia    = Não\\n|destruir    = Você precisará encontrar outro com arqueologia.\\n|em morte    = Não\\n|depositável = Não\\n|peso        = 0.001\\n|ações= Inspecionar, Destruir\\n|id= 49728\\n}}\\n[[Ficheiro:{{PAGENAME}}_detalhe.png|left]] A '''escultura 'Forjada em Guerra' (danificada)''' é um [[Artefatos|artefato]] bandosiano quebrado que pode ser escavado no sítio de [[guerrópolis]] e restaurado com nível 100 de {{hab|Arqueologia}}.\\n__NOTOC__\\n\",\n",
       "  'label': 1},\n",
       " {'text': \"{{Infobox objeto\\n|nome = {{PAGENAME}}\\n|inglês = 'Disorder' painting (damaged)\\n|imagem = [[Ficheiro:{{PAGENAME}}.png]]\\n|examinar = Uma pintura abstrata que pode ser restaurada.\\n|lançamento  = {{Data|30|Março|2020}}\\n|atualização = Atualização do Jogo: Chegou a nova habilidade de Arqueologia!\\n|membros     = Sim\\n|missão      = Não\\n|negociável  = Não\\n|equipável   = Não\\n|desmontável = Não\\n|valor       = 6000\\n|alquimia    = Não\\n|destruir    = Você precisará encontrar outro com arqueologia.\\n|em morte    = Não\\n|acumulável= Não\\n|acumulável banco= Sim\\n|depositável = Sim\\n|peso        = 0.001\\n|ações= Inspecionar, Destruir\\n|id= 49831\\n}}\\n[[Ficheiro:{{PAGENAME}}_detalhe.png|left]] A '''pintura 'desordem' (danificada)''' é um [[artefato]] zamorakiano quebrado que pode ser escavado no sítio da [[Fonte Infernal]] e restaurado com nível 24 de {{hab|Arqueologia}}.\\n__NOTOC__\\n\",\n",
       "  'label': 1},\n",
       " {'text': '==Histórico de atualizações==\\n{{HA|\\n* {{LA|data={{Data|30|Março|2020}}|tipo=atualização|atualização=Atualização do Jogo: Chegou a nova habilidade de Arqueologia!}}\\n** Adicionado ao jogo.\\n}}\\n\\n{{Artefatos}}',\n",
       "  'label': 1},\n",
       " {'text': '==Galeria==\\n<gallery mode=\"packed\" heights=\"190\">\\nWadud portrait.png|Arte conceitual de Wadud\\nFile:Menaphos concept art 55.jpg|Arte conceitual de líder de facção\\nFile:Menaphos factions.jpg|Arte dos líderes de facção\\nFile:Menaphos models 3.jpg|Modelo de Wadud\\n</gallery>\\n\\n',\n",
       "  'label': 0},\n",
       " {'text': '==Histórico de atualizações==\\n{{UH|\\n* {{UL|type=update|update=Esta Semana em RuneScape - Celebração das Habilidades|date=25 de Janeiro de 2021}}\\n** Adicionado ao jogo.\\n}}\\n\\n',\n",
       "  'label': 0},\n",
       " {'text': '==Histórico de lançamento==\\n{{RecurringTableHeader}}\\n{{RecurringTableLine|start=27 de novembro de 2023|update=Atualização da Temporada de Natal - Nesta Semana no RuneScape|end=|content=Evento de Natal de 2023}}\\n{{RecurringTableEnd}}\\n\\n',\n",
       "  'label': 0},\n",
       " {'text': \"==Produtos==\\n{{Lista de materiais que usam|Pintura 'Consensus ad Idem' (danificada)}}\\n\\n\",\n",
       "  'label': 0},\n",
       " {'text': '{{Infobox objeto\\n|nome = &#39;Frigideira&#39;\\n|inglês = \\'Frying pan\\'\\n|imagem = [[Ficheiro:&#39;Frigideira&#39;.png]]\\n|examinar = Uma \\'frigideira\\' completamente restaurada.\\n|lançamento  = {{Data|30|Março|2020}}\\n|atualização = Atualização do Jogo: Chegou a nova habilidade de Arqueologia!\\n|membros     = Sim\\n|missão      = Não\\n|negociável  = Não\\n|equipável   = Não\\n|desmontável = Sim\\n|valor       = 21000\\n|alquimia    = Não\\n|destruir    = Você precisará encontrar outro com Arqueologia.\\n|em morte    = Não\\n|acumulável= Não\\n|acumulável banco= Sim\\n|depositável = Sim\\n|peso        = 0.001\\n|ações= Inspecionar, Destruir\\n|id= 49778\\n}}\\n{{outros usos|versão restaurada|versão danificada|&#39;Frigideira&#39; (danificada)}} \\n[[Ficheiro:&#39;Frigideira&#39;_detalhe.png|75px|left]] A \\'\\'\\' \\'frigideira\\' \\'\\'\\' é um [[Artefatos|artefato]] saradominista de {{hab|Arqueologia}} que pode ser restaurado na [[Bancada do Arqueólogo|bancada do arqueólogo]].\\n\\nJuntamente com os [[Restos mortais de Icyene|restos mortais de icyene]], ele pode ser enterrado novamente no túmulo vazio no cemitério de icyene, para a conclusão do [[mistério]] [[Anjos Caídos]].\\n\\n\\n[[Ficheiro:&#39;Frigideira&#39; diário.png|thumb|right|&#39;Frigideira&#39; no [[Diário de Arqueologia|diário de arqueologia]].]]\\n{{Infobox artefato\\n|nome=\\'Frigideira\\'\\n|alinhamento=saradominista\\n|cronotas=392\\n|coleções=* [[Saradoministas I]] \\n* [[Museu - Saradoministas I]]\\n|descrição=Não conseguimos descobrir ainda o nome ou a finalidade destes artefatos, apenas que eram utilizados em rituais funerários. Vanéscula sugeriu o nome de \"frigideira\".}}\\n',\n",
       "  'label': 1},\n",
       " {'text': \"==Curiosidades==\\n* A descrição sugere a possibilidade de que a Estalagem da Estrela já foi um bordel.\\n\\n{{Artefacts}}\\n{{Infernal Source Dig Site}}\\n[[pt:Escultura de metal 'Luxúria']]\\n\",\n",
       "  'label': 0},\n",
       " {'text': '==Desmontagem==\\n{{Desmontagem\\n|nível = 42\\n|categoria = artefato de ornamento 6\\n|especial = histórico[20]{80}, clássico[5]{18}, desgastado[1]{1}, vintage[1]{1}\\n|sempre_dá_material_especial = sim\\n|valor_calculado = {GETotalqty¦name1=Ferro da Terceira Era¦qty1=20¦name2=Mármore branco¦qty2=24}\\n}}\\n\\n',\n",
       "  'label': 0},\n",
       " {'text': \"{{Outros usos|a versão negociável|a versão não negociável|Projeto de ferramentas antigas (não negociável)}}\\n{{Infobox objeto\\n|nome = Projeto de ferramentas antigas\\n|inglês = 'Ancient tools' blueprint\\n|imagem = [[Ficheiro:Projeto de ferramentas antigas.png]]\\n|examinar = Um dos projetos originais de Uivo. Pode ser negociado.\\n|lançamento  = {{Data|30|março|2020}}\\n|atualização = Atualização do Jogo: Chegou a nova habilidade de Arqueologia!\\n|membros     = Sim\\n|missão      = Não\\n|negociável  = Sim\\n|equipável   = Não\\n|desmontável = Sim\\n|depositável = Sim\\n|ações = Estudar\\n|acumulável = Não\\n|acumulável banco   = Não\\n|valor       = 10000\\n|alquimia    = Não\\n|destruir    = Largar\\n|em morte    = sempre\\n|peso        = 0,5\\n|mercado = gemw\\n|id          = 50112\\n}}\\n\\n[[Ficheiro:Projeto de ferramentas antigas detalhe.png|left|100px]]\\nO '''projeto de ferramentas antigas''' pode ser feito com nível 95 em {{hab|Arqueologia}} depois de completar o [[mistério]] [[Oficina Flutuante do Uivo]]. São necessários 300 [[fragmentos de projeto (oficina do Uivo)]] e nível 70 em {{hab|Artesanato}} para fazer a versão negociável na [[bancada de projetos]] em [[Tempéstia]].\\n\\nEstudar o projeto no nível 93 em {{hab|Invenção}} permite a criação de três ferramentas antigas, a [[vara de pesca automática aprimorada]], [[piromático aprimorado]] e [[martelomático aprimorado]], que podem ser usados da mesma maneira que as suas versões padrão.\\n\\n\",\n",
       "  'label': 1},\n",
       " {'text': \"==Restauração==\\n{{Infobox Receita\\n|membros = Sim\\n|tiques = 10\\n|ferramenta = [[Ferramentas de arqueólogo]]\\n|tiques2 = 8\\n|notatiq = Ao usar o [[traje de arqueólogo mestre]].\\n|instalação = [[Bancada de arqueólogo]]\\n|habilidade1 = [[Arqueologia]]\\n|nívelhabilidade1 = 100\\n|habilidade1aumentável = Sim\\n|exp1 = 18666.7\\n|mat1 = [[Escultura 'Forjada em Guerra' (danificada)]]\\n|mat1custo = não\\n|mat2 = [[Bronze Forjado em Guerra]]\\n|mat2qte = 50\\n|mat3 = [[Argila de Yu'biusk]]\\n|mat3qte = 42\\n|mat4 = [[Esmeralda]]\\n|resultado1 = [[Escultura 'Forjada em Guerra]]\\n|resultado1custo = não\\n}}\\n\\n\",\n",
       "  'label': 0}]"
      ]
     },
     "execution_count": 72,
     "metadata": {},
     "output_type": "execute_result"
    }
   ],
   "source": [
    "import random\n",
    "\n",
    "# Shuffling for good measure.\n",
    "random.shuffle(organized_data)\n",
    "organized_data[0:30]"
   ]
  },
  {
   "cell_type": "code",
   "execution_count": 73,
   "id": "79171ad5",
   "metadata": {},
   "outputs": [],
   "source": [
    "import pandas as pd\n",
    "\n",
    "df = pd.DataFrame(organized_data)\n",
    "df.to_csv('training_data.csv', index = False)"
   ]
  }
 ],
 "metadata": {
  "kernelspec": {
   "display_name": "Python 3",
   "language": "python",
   "name": "python3"
  },
  "language_info": {
   "codemirror_mode": {
    "name": "ipython",
    "version": 3
   },
   "file_extension": ".py",
   "mimetype": "text/x-python",
   "name": "python",
   "nbconvert_exporter": "python",
   "pygments_lexer": "ipython3",
   "version": "3.11.5"
  }
 },
 "nbformat": 4,
 "nbformat_minor": 5
}
