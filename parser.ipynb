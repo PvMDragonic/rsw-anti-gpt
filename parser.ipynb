{
 "cells": [
  {
   "cell_type": "markdown",
   "id": "642ff061",
   "metadata": {},
   "source": [
    "Data clean-up for model training."
   ]
  },
  {
   "cell_type": "code",
   "execution_count": null,
   "id": "ca39e3ae",
   "metadata": {},
   "outputs": [],
   "source": [
    "import json\n",
    "\n",
    "with open('data.json', \"r\") as file_old:\n",
    "    data = json.load(file_old)"
   ]
  },
  {
   "cell_type": "code",
   "execution_count": null,
   "id": "e452ebb3",
   "metadata": {},
   "outputs": [],
   "source": [
    "import re\n",
    "\n",
    "def section_split(text: str) -> list[str]:\n",
    "    pattern = r\"(==.*?==.*?)(?=(?:==.*?==)|\\Z)\"\n",
    "    splitted = re.split(pattern, text, flags = re.S)\n",
    "    return [section for section in splitted if section != '']\n",
    "\n",
    "def format_english(text: str) -> str:\n",
    "    # Removes any leading \"```text\\n\" (plus whatever flavour text is behind it) and trailing \"```\".\n",
    "    pattern = re.compile(r\".*```[A-Za-z:-]*\\n\", re.DOTALL)\n",
    "    return pattern.sub('', text)[0:-3]"
   ]
  },
  {
   "cell_type": "code",
   "execution_count": 9,
   "id": "e131cc82",
   "metadata": {},
   "outputs": [],
   "source": [
    "organized_data = []\n",
    "for page in data.values():\n",
    "    for en_translated, pt_official in page.items():\n",
    "        en_t = section_split(format_english(en_translated)) \n",
    "        pt_o = section_split(pt_official)\n",
    "        \n",
    "        for section in en_t:\n",
    "            organized_data.append(\n",
    "                { 'text' : section, 'label': 0 }\n",
    "            )\n",
    "\n",
    "        for section in pt_o:\n",
    "            organized_data.append(\n",
    "                { 'text' : section, 'label': 1 }\n",
    "            )"
   ]
  },
  {
   "cell_type": "code",
   "execution_count": 10,
   "id": "ff8aa7bd",
   "metadata": {},
   "outputs": [
    {
     "data": {
      "text/plain": [
       "[{'text': '====Encantos', 'label': 0},\n",
       " {'text': '{{Infobox conquista\\n|inglês = A Cultist\\'s Journey\\n|nome = Diário de um cultista\\n|descrição = Completar as tarefas de \"Diário de um cultista\" do Curador.\\n|lançamento = {{Data|16|janeiro|2023}}\\n|atualização = Atualizações no Lobby da Versão Móvel e Fúria do Raptor - Esta Semana no RS\\n|membros = Sim\\n|pontos = 5\\n|categoria = História\\n|subcategoria = Minimissões\\n|mqc = sim\\n|requisitos = Nenhum\\n|id = 3224\\n}}\\n\\'\\'\\'Diário de um cultista\\'\\'\\' é uma conquista que requer que o jogador ajude [[O Curador]], que está preocupado com uma série de cultos dedicados as [[Deusas Anciãs]], especificamente [[Humanos Contra Monstros]]. Embora não haja requisitos, é recomendável concluir a [[missão]] {{missão|Cidade de Senntisten}} com antecedência, pois as tarefas lidam com consequências diretas dos eventos dessa missão.\\n\\nFoi inicialmente lançado como uma série de tarefas narrativas como parte da [[Trilha do Iaque: Caminho das Criadoras]] em [[23 de agosto]] de [[2021]]. As tarefas permaneceram no jogo permanentemente após o término do evento. De acordo com a lista de missões do jogo, esta atividade de conhecimento não é uma [[minimissão]], pois não está listada lá. Em [[16 de janeiro]] de [[2023]], foi transformado em uma [[conquista]].\\n\\n',\n",
       "  'label': 1},\n",
       " {'text': \"==Curiosidades==\\n* O nome da série de conquistas é uma referência à série de romances ''{{WP|A Song of Ice and Fire|As Crônicas de Gelo e Fogo}}''.\\n[[en:A Song of Ice and Ire II]]\\n\",\n",
       "  'label': 0},\n",
       " {'text': '==Histórico de atualizações==\\n{{UH|\\n* {{UL|type=patch|update=Lançamento de 110 de Corte de Lenha e Arco e Flecha Hoje! - Esta Semana no RuneScape|date=9 de dezembro de 2024}}\\n** Lenhas de teca e acádia não são mais listadas como exclusivas para membros no guia de habilidade de Corte de Lenha.\\n** Lenhas de acádia e caixas de lenha de teca, bordo e acádia agora são objetos de acesso gratuito.\\n\\n* {{UL|type=patch|update=Notas do Patch (27/07/20) - Esta Semana no RuneScape|date=27 de julho de 2020}}\\n** Lenhas de acádia não se transformarão mais em [[lenha mágica]] ao queimar.\\n\\n* {{UL|type=patch|update=Notas do Patch (19 de agosto de 2019)|date=19 de agosto de 2019}}\\n** Texto de exame atualizado para fogueiras de lenha de acádia, que agora mostrarão o tipo de lenha usada.\\n\\n* {{UL|type=patch|update=Notas do Patch (1 de abril de 2019)|date=1 de abril de 2019}}\\n** Um problema que fazia com que a lenha hospedeira de um espírito de fogo derivado do uso de [[lenha de bordo]] em uma [[fogueira]] fosse lida como lenha de acádia na dica de item foi resolvido.\\n\\n* {{UL|type=ninja|update=Notas do Patch (13 de novembro de 2017)|date=13 de novembro de 2017}}\\n** Lenhas de acádia agora podem ser criadas em hastes de flecha.\\n\\n* {{UL|type=patch|update=Notas do Patch (26 de junho de 2017)|date=26 de junho de 2017}}\\n** Lenhas de acádia agora têm a mesma chance de lixo que [[lenha mágica]] ao desmontar.\\n\\n* {{UL|type=update|update=Menaphos - Os Portões Estão Abertos|date=5 de junho de 2017}}\\n** Adicionado ao jogo.\\n}}\\n\\n{{Logs}}\\n{{Menaphos Imperial district}}\\n\\n[[Category:Corte de Lenha]]\\n[[Category:Arte do Fogo]]\\n[[Category:Itens de Arco e Flecha]]\\n[[pt:Lenha de acádia]]\\n',\n",
       "  'label': 0},\n",
       " {'text': '===Membros da ordem===\\n<gallery>\\nSpirit of Saint Elspeth.png|[[Santa Elspeth]]\\nAbbess Benita.png|[[Abadessa Benita]]\\nCecilia.png|[[Irmã Cecília]]\\nSister Debora.png|[[Irmã Debora]]\\nCitharede Sister.png|[[Irmã de Citarista]]s\\nOrganist.png|[[Organista]]\\n</gallery>\\n\\n',\n",
       "  'label': 0},\n",
       " {'text': \"{{outros usos|versão restaurada|versão danificada|Pintura &#39;O Orgulho de Padosan&#39; (danificada)}}\\n{{Infobox objeto\\n|nome = Pintura &#39;O Orgulho de Padosan&#39;\\n|inglês = 'The Pride of Padosan' painting\\n|imagem = [[Ficheiro:Pintura &#39;O Orgulho de Padosan&#39;.png]]\\n|examinar = Uma pintura completamente restaurada.\\n|lançamento  = {{Data|30|Março|2020}}\\n|atualização = Atualização do Jogo: Chegou a nova habilidade de Arqueologia!\\n|membros     = Sim\\n|missão      = Não\\n|negociável  = Não\\n|equipável   = Não\\n|desmontável = Sim\\n|valor       = 52500\\n|alquimia    = Não\\n|destruir    = Você precisará encontrar outro com arqueologia.\\n|em morte    = Não\\n|acumulável= Não\\n|acumulável banco= Sim\\n|depositável = Sim\\n|peso        = 0.001\\n|ações= Inspecionar, Destruir\\n|id= 49794\\n}}\\n[[Ficheiro:Pintura &#39;O Orgulho de Padosan&#39; detalhe.png|left]] A '''pintura 'O Orgulho de Padosan'''' é um [[artefato]] saradominista de {{hab|Arqueologia}} que pode ser restaurado na [[bancada do arqueólogo]].\\n\\n\\n[[Ficheiro:Pintura &#39;O Orgulho de Padosan&#39; diário.png|thumb|right|Pintura &#39;O Orgulho de Padosan&#39; no [[Diário de Arqueologia|diário de arqueologia]].]]\\n{{Infobox artefato\\n|nome=Pintura &#39;O Orgulho de Padosan&#39;\\n|alinhamento=saradominista\\n|cronotas=910\\n|coleções=* [[Saradoministas IV]] \\n* [[Museu - Saradoministas IV]]\\n* [[Renascentismo Radiante]]\\n|descrição= Esta pintura parece ilustrar uma adorada medalhista dos Jogos do Domínio, mas a cena em si é bastante melancólica, talvez para representar humildadente ou arrogância. É difícil dizer.}}\\n\",\n",
       "  'label': 1},\n",
       " {'text': '==Histórico de atualizações==\\n{{HA|\\n* {{LA|data={{Data|30|Março|2020}}|tipo=atualização|atualização=Atualização do Jogo: Chegou a nova habilidade de Arqueologia!}}\\n** Adicionado ao jogo.\\n}}\\n',\n",
       "  'label': 1},\n",
       " {'text': '==Desmontagem==\\n{{Disassembly\\n|level = 105\\n|category = artefato pintura 18\\n|special = desgastado[4]{50}, vintage[4]{50}\\n|alwaysgivesaspecialmaterial = sim\\n|calcvalue={GETotalqty¦name1=Azul cobalto¦qty1=52¦name2=Carvalho branco¦qty2=16¦name3=Seda samita¦qty3=16¦name4=Pergaminho¦qty4=16}\\n}}\\n\\n',\n",
       "  'label': 0},\n",
       " {'text': \"{{Infobox Item\\n|name = Resenha de um crítico (artigo 4)\\n|image = [[Ficheiro:A critic's review (article 4).png]]\\n|release = [[16 de Agosto]] de [[2021]]\\n|update = This Week in RuneScape: Ninja Strike 25 & Senntisten Archaeology\\n|members = Não\\n|quest = Não\\n|restriction = superfície\\n|tradeable = Não\\n|equipable = Não\\n|stackable = Não\\n|disassembly = Não\\n|value = 1\\n|alchable = Não\\n|destroy = Você pode ler isso no seu diário de arqueologia.\\n|actions = Ler, Usar, Transcrever, Examinar\\n|kept = alwaysinclwild\\n|examine = Uma página de uma publicação de crítica teatral.\\n|weight = 0.005\\n|id = 51934\\n}}\\n[[Ficheiro:A critic's review (article 4) detail.png|esquerda|100px]]\\n'''Resenha de um crítico (artigo 4)''' pode ser obtido escavando no [[Sítio de Escavação de Senntisten]] nos [[detritos do Mercado]] [[pontos de escavação]]. Recuperar esta página, juntamente com o resto das páginas da resenha do crítico, é um requisito para completar o [[Teatro da Noite]] [[mistério]].\\n\\n\",\n",
       "  'label': 0},\n",
       " {'text': '==Passo a Passo==\\n[[Arquivo:Diango cabeça.png|esquerda|60px]]\\nPara começar a missão, fale com [[Diango]] ou [[Cait]] na [[Oficina de Diango]], a leste da Vila de Natal. Diango foi convidado pelo [[Papai Noel]] para assumir a produção de brinquedos na Oficina e ele precisa da sua ajuda para colocar a produção de volta nos trilhos, pois eles estão atrasados.\\n\\n{{clear|left}}\\n',\n",
       "  'label': 1},\n",
       " {'text': \"==Curiosidades==\\n* O nome da cadeia de conquistas é uma referência à série de romances ''{{WP|A Song of Ice and Fire}}''.\\n[[pt:As Crônicas de Gelo e Fúria V]]\\n\",\n",
       "  'label': 0},\n",
       " {'text': \"Aqui está o código-fonte traduzido para Português:\\n\\n{{Redirect|Teleportes Gratuitos|os teletransportes gratuitos para qualquer lodestone desbloqueada|Teletransporte para Casa}}\\n{{Infobox Relic\\n|nome = Elo Abissal\\n|imagem = [[Ficheiro:Elo Abissal.png]]\\n|lançamento = [[30 de Março]] de [[2020]]\\n|atualização = Atualização do Jogo: A nova habilidade Arqueologia chegou!\\n|desbloqueio = [[A Lâmina Sutil]]\\n|custo = 5.000\\n|energia = 250\\n|nível = 112\\n|descrição = Feitiços de teletransporte do livro de feitiços de magia não exigem mais runas, mas não concedem EXP de Magia.\\n|id = 2898\\n}}\\n'''Elo Abissal''' é um [[poder de relíquia]] encontrado em [[Arqueologia]] que os jogadores podem aproveitar no [[monólito misterioso]]. Aproveitar esse poder de relíquia fará com que os [[feitiços de teletransporte]] do [[livro de feitiços]] de magia não exijam mais [[runas]], mas não concedam experiência de [[Magia]]. As [[incantações]] de teletransporte de [[Necromancia]] '''não''' são afetadas e ainda exigirão [[runas necróticas]]. Custa 5.000 [[cronotas]] para ativar e usa 250 de energia do monólito. Outros requisitos de feitiço que não são runas, como uma [[banana]] para o [[Teletransporte para o Atol dos Macacos]], ainda são exigidos.\\n\\nA criação da relíquia, [[A Lâmina Sutil]], exige a conclusão de [[Voltando à Prancheta]], a conclusão da missão [[O Despertar do Mundo]], 112 de Arqueologia e 111 de [[Invenção]].\\n\\n\",\n",
       "  'label': 0},\n",
       " {'text': '==Histórico de atualizações==\\n{{Historico de atualizacoes|\\n* {{UL|tipo=patch|atualizacao=Notas do Patch (11 de Novembro de 2019)|data=11 de Novembro de 2019}}\\n** Corrigido um erro de digitação no livro abissal.\\n\\n* {{UL|tipo=atualizacao|atualizacao=Atualização e Ajustes de Criação de Runas|data=13 de Junho de 2005}}\\n** Adicionado ao jogo.\\n}}\\n\\n{{Enter the Abyss}}\\n[[Categoria:Textos e tomos]]\\n[[Categoria:Recuperação gratuita]]\\n',\n",
       "  'label': 0},\n",
       " {'text': \"Claro, aqui está o código-fonte traduzido para Português, mantendo a formatação e os links da wiki:\\n\\n{{Infobox Achievement\\n|id = 3046\\n|name = Uma Canção de Gelo e Ira VII\\n|description = Derrote o Arquiglacor com 2.000% de fúria.\\n|release = [[31 de Agosto]] de [[2021]]\\n|update = Nesta Semana em RuneScape: A Frente Glacor e o Sorteio da Sorte do Leonard\\n|members = Sim\\n|score = 40\\n|maincategory = Combate\\n|subcategory = Arquiglacor\\n|combat mastery = Mestre\\n|rewards =\\n* Título [[o Filho do Gelo#Prata|'o Filho do Gelo' Prateado]].\\n|grants title = Sim\\n|requirements =\\n* Nenhum\\n}}\\n'''Uma Canção de Gelo e Ira VII''' é uma conquista que exige que o jogador derrote o [[Arquiglacor]] com 2.000% de fúria e recompensa com a variante prateada do título, {{TitleAnchor|t=o Filho do Gelo|c=#c0c0c0|loc=s|link=O Filho do Gelo#Prata}}.\\n\\n\",\n",
       "  'label': 0},\n",
       " {'text': '==Galeria==\\n<gallery mode=\"packed\" heights=\"200\">\\nAbyssal creatures concept art.png|Arte conceitual do selvagem abissal (esquerda)\\nAbyssal savage development.png|Um modelo em desenvolvimento do selvagem abissal\\n</gallery>\\n\\n',\n",
       "  'label': 0}]"
      ]
     },
     "execution_count": 10,
     "metadata": {},
     "output_type": "execute_result"
    }
   ],
   "source": [
    "import random\n",
    "\n",
    "# Shuffling for good measure.\n",
    "random.shuffle(organized_data)\n",
    "organized_data[0:15]"
   ]
  },
  {
   "cell_type": "code",
   "execution_count": 73,
   "id": "79171ad5",
   "metadata": {},
   "outputs": [],
   "source": [
    "import pandas as pd\n",
    "\n",
    "df = pd.DataFrame(organized_data)\n",
    "df.to_csv('training_data.csv', index = False)"
   ]
  }
 ],
 "metadata": {
  "kernelspec": {
   "display_name": "Python 3",
   "language": "python",
   "name": "python3"
  },
  "language_info": {
   "codemirror_mode": {
    "name": "ipython",
    "version": 3
   },
   "file_extension": ".py",
   "mimetype": "text/x-python",
   "name": "python",
   "nbconvert_exporter": "python",
   "pygments_lexer": "ipython3",
   "version": "3.11.5"
  }
 },
 "nbformat": 4,
 "nbformat_minor": 5
}
